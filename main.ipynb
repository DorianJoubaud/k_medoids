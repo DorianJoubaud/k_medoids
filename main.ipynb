{
 "cells": [
  {
   "cell_type": "code",
   "execution_count": 1,
   "id": "traditional-schema",
   "metadata": {},
   "outputs": [],
   "source": [
    "%matplotlib widget\n",
    "import numpy as np\n",
    "import matplotlib.pyplot as plt"
   ]
  },
  {
   "cell_type": "code",
   "execution_count": 2,
   "id": "exciting-twist",
   "metadata": {},
   "outputs": [],
   "source": [
    "def distance(x,y):\n",
    "    return np.sqrt(np.sum(np.square(x-y)))\n"
   ]
  },
  {
   "cell_type": "code",
   "execution_count": 3,
   "id": "thick-graham",
   "metadata": {},
   "outputs": [],
   "source": [
    "def get_distance_matrix(data):\n",
    "    n = data.shape[0]\n",
    "    distance_matrix = np.zeros((n,n))\n",
    "    for i in range(n):\n",
    "        for j in range(n):\n",
    "        \n",
    "            distance_matrix[i,j] = distance(data[i],data[j])\n",
    "    return distance_matrix"
   ]
  },
  {
   "cell_type": "code",
   "execution_count": 4,
   "id": "molecular-current",
   "metadata": {},
   "outputs": [],
   "source": [
    "def get_v(data, distance_matrix):\n",
    "    n = data.shape[0]\n",
    "    v = np.zeros(n)\n",
    "    for j in range(n):\n",
    "        tmp = 0\n",
    "        for i in range(n):\n",
    "            tmp2 = 0\n",
    "            for l in range(n):\n",
    "                tmp2 += distance_matrix[i,l]\n",
    "            tmp += distance_matrix[i,j]/tmp2\n",
    "        v[j] = tmp\n",
    "    return v"
   ]
  },
  {
   "cell_type": "code",
   "execution_count": 5,
   "id": "latest-meeting",
   "metadata": {},
   "outputs": [],
   "source": [
    "def get_center(data, k, distance_matrix):\n",
    "    # initialize the distance matrix  \n",
    "    v = get_v(data, distance_matrix)\n",
    "    v = np.argsort(v)  # return la listes des index une fois la liste trié ie INPUT: [50,100,75] OUPUT : [0,2,1]\n",
    "    v = v[:k] # on garde les k premier\n",
    "    center = [data[i,:] for i in v]\n",
    "    print(center)\n",
    "    \n",
    "    return center\n"
   ]
  },
  {
   "cell_type": "code",
   "execution_count": 6,
   "id": "extreme-aluminum",
   "metadata": {},
   "outputs": [],
   "source": [
    "def plot_data(data,labels,centers):\n",
    "    plt.scatter(data[:,0],data[:,1],c=labels)\n",
    "    plt.scatter(centers[:,0],centers[:,1],marker='*',s=200,c='k')\n",
    "    plt.show()"
   ]
  },
  {
   "cell_type": "code",
   "execution_count": 7,
   "id": "injured-rugby",
   "metadata": {},
   "outputs": [],
   "source": [
    "def k_medoids(data,k):\n",
    "    \"\"\"\n",
    "    :param data: numpy array\n",
    "    :param k: number of clusters\n",
    "    \n",
    "    \"\"\"\n",
    "    \n",
    "    distance_points_matrix = get_distance_matrix(data)\n",
    "    # choose center using v \n",
    "    centers = get_center(data, k, distance_points_matrix)\n",
    "    # initialize the labels\n",
    "    labels = np.zeros(data.shape[0])\n",
    "    # initialize the distance matrix\n",
    "    distance_point_cluster_matrix = np.zeros((data.shape[0],k))\n",
    "    # initialize the cost\n",
    "    old_cost = -99\n",
    "    cost = 0\n",
    "    #stop condition\n",
    "    done = True\n",
    "    nb_it = 0\n",
    "    while done:\n",
    "        nb_it += 1\n",
    "        \n",
    "    \n",
    "        # calculate the distance matrix\n",
    "        for j in range(k):\n",
    "            distance_point_cluster_matrix[:,j] = np.array([distance(x,centers[j]) for x in data])\n",
    "        # update the labels\n",
    "        labels = np.argmin(distance_point_cluster_matrix,axis=1)\n",
    "        # update the cost\n",
    "        cost = np.sum(np.min(distance_point_cluster_matrix,axis=1))\n",
    "        if old_cost == cost:\n",
    "            done = False\n",
    "        else:\n",
    "            old_cost = cost\n",
    "        # update the centers\n",
    "        for j in range(k):\n",
    "            centers[j] = np.mean(data[labels==j],axis=0)\n",
    "            \n",
    "    return labels,cost, centers, nb_it"
   ]
  },
  {
   "cell_type": "code",
   "execution_count": 8,
   "id": "first-lobby",
   "metadata": {},
   "outputs": [
    {
     "name": "stdout",
     "output_type": "stream",
     "text": [
      "[array([-0.02203572,  0.10333696]), array([-0.06031303,  0.10798865]), array([ 0.0044707 , -0.09969933])]\n"
     ]
    },
    {
     "data": {
      "application/vnd.jupyter.widget-view+json": {
       "model_id": "39d0e9b8c840483ea7cb82cf0c62275d",
       "version_major": 2,
       "version_minor": 0
      },
      "text/plain": [
       "Canvas(toolbar=Toolbar(toolitems=[('Home', 'Reset original view', 'home', 'home'), ('Back', 'Back to previous …"
      ]
     },
     "metadata": {},
     "output_type": "display_data"
    },
    {
     "name": "stdout",
     "output_type": "stream",
     "text": [
      "Convergence en 7 itérations \n"
     ]
    }
   ],
   "source": [
    "data = np.random.randn(200,2)\n",
    "k=3\n",
    "labels,cost, centers, nb_it = k_medoids(data,k)\n",
    "centers = np.array([np.mean(data[labels==i],axis=0) for i in range(k)])\n",
    "\n",
    "plot_data(data,labels,centers)\n",
    "print(f'Convergence en {nb_it} itérations ')"
   ]
  },
  {
   "cell_type": "code",
   "execution_count": null,
   "id": "exempt-small",
   "metadata": {},
   "outputs": [],
   "source": []
  }
 ],
 "metadata": {
  "kernelspec": {
   "display_name": "Python 3",
   "language": "python",
   "name": "python3"
  },
  "language_info": {
   "codemirror_mode": {
    "name": "ipython",
    "version": 3
   },
   "file_extension": ".py",
   "mimetype": "text/x-python",
   "name": "python",
   "nbconvert_exporter": "python",
   "pygments_lexer": "ipython3",
   "version": "3.8.10"
  }
 },
 "nbformat": 4,
 "nbformat_minor": 5
}
